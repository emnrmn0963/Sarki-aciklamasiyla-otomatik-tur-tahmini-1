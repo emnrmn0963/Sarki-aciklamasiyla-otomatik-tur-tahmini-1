{
 "cells": [
  {
   "cell_type": "code",
   "execution_count": 1,
   "id": "b3dced9f-4dd6-4d73-bd07-8622eb5c253e",
   "metadata": {},
   "outputs": [],
   "source": [
    "import pandas as pd\n",
    "import numpy as np\n",
    "from sklearn.feature_extraction.text import TfidfVectorizer\n",
    "from sklearn.metrics.pairwise import cosine_similarity"
   ]
  },
  {
   "cell_type": "code",
   "execution_count": 2,
   "id": "af1d738c-5541-43c6-9dff-057b58650c87",
   "metadata": {},
   "outputs": [],
   "source": [
    "df_lemmatized = pd.read_csv(\"C:/Users/yunus/Desktop/emine_proje/data/preprocessed_data_lemmatized_only.csv\")\n",
    "df_stemmed = pd.read_csv(\"C:/Users/yunus/Desktop/emine_proje/data/preprocessed_data_stemmed_only.csv\")"
   ]
  },
  {
   "cell_type": "code",
   "execution_count": null,
   "id": "eebee3bc-b00f-4bf8-910d-be799b4ef4c8",
   "metadata": {},
   "outputs": [],
   "source": []
  },
  {
   "cell_type": "code",
   "execution_count": 5,
   "id": "0d97d61a-eb53-43c4-827c-ba826f1c68d9",
   "metadata": {},
   "outputs": [],
   "source": [
    "# TF İDF Vektörizasyon işlemi\n",
    "tfidf_vectorizer_lemma = TfidfVectorizer()\n",
    "tfidf_matrix_lemma = tfidf_vectorizer_lemma.fit_transform(df_lemmatized['description_processed'])\n",
    "tfidf_df_lemma = pd.DataFrame(tfidf_matrix_lemma.toarray(), columns=tfidf_vectorizer_lemma.get_feature_names_out())\n",
    "\n",
    "tfidf_vectorizer_stem = TfidfVectorizer()\n",
    "tfidf_matrix_stem = tfidf_vectorizer_stem.fit_transform(df_stemmed['description_stemmed'])\n",
    "tfidf_df_stem = pd.DataFrame(tfidf_matrix_stem.toarray(), columns=tfidf_vectorizer_stem.get_feature_names_out())"
   ]
  },
  {
   "cell_type": "code",
   "execution_count": 6,
   "id": "e8054eca-2ced-46ae-901a-dfc570a16408",
   "metadata": {},
   "outputs": [],
   "source": [
    "#Dosyaların kaydedilmesi\n",
    "tfidf_df_lemma.to_csv(\"C:/Users/yunus/Desktop/emine_proje/data/tfidf_lemmatized.csv\", index=False)\n",
    "tfidf_df_stem.to_csv(\"C:/Users/yunus/Desktop/emine_proje/data/tfidf_stemmed.csv\", index=False)"
   ]
  },
  {
   "cell_type": "code",
   "execution_count": 7,
   "id": "654248e7-1a66-4a64-8374-8f5d464f1655",
   "metadata": {},
   "outputs": [
    {
     "name": "stdout",
     "output_type": "stream",
     "text": [
      "\n",
      "Lemmatize edilmiş veri - İlk cümlenin en yüksek TF-IDF skorlu 5 kelimesi:\n",
      "\n",
      "it             0.265909\n",
      "description    0.239028\n",
      "fail           0.239028\n",
      "straightbob    0.239028\n",
      "dylansaid      0.239028\n",
      "Name: 0, dtype: float64\n"
     ]
    }
   ],
   "source": [
    "# Lemmatize edilmiş veri için\n",
    "first_sentence_vector_lemma = tfidf_df_lemma.iloc[0]\n",
    "top_5_words_lemma = first_sentence_vector_lemma.sort_values(ascending=False).head(5)\n",
    "\n",
    "print(\"\\nLemmatize edilmiş veri - İlk cümlenin en yüksek TF-IDF skorlu 5 kelimesi:\\n\")\n",
    "print(top_5_words_lemma)"
   ]
  },
  {
   "cell_type": "code",
   "execution_count": 8,
   "id": "a42fc5e0-4d73-4ca7-bf41-a66f5f110e4e",
   "metadata": {},
   "outputs": [
    {
     "name": "stdout",
     "output_type": "stream",
     "text": [
      "\n",
      "Stemmed veri - İlk cümlenin en yüksek TF-IDF skorlu 5 kelimesi:\n",
      "\n",
      "fail           0.275177\n",
      "straightbob    0.275177\n",
      "dylansaid      0.275177\n",
      "descript       0.275177\n",
      "shortli        0.258074\n",
      "Name: 0, dtype: float64\n"
     ]
    }
   ],
   "source": [
    "# Stemmed veri için\n",
    "first_sentence_vector_stem = tfidf_df_stem.iloc[0]\n",
    "top_5_words_stem = first_sentence_vector_stem.sort_values(ascending=False).head(5)\n",
    "\n",
    "print(\"\\nStemmed veri - İlk cümlenin en yüksek TF-IDF skorlu 5 kelimesi:\\n\")\n",
    "print(top_5_words_stem)"
   ]
  },
  {
   "cell_type": "code",
   "execution_count": 9,
   "id": "3309102a-f078-4099-b50f-2728b90d5086",
   "metadata": {},
   "outputs": [
    {
     "name": "stdout",
     "output_type": "stream",
     "text": [
      "\n",
      "Lemmatize edilmiş veri - Kosinüs Benzerliği Matrisi:\n",
      "\n",
      "        0         1         2         3         4         5         6    \\\n",
      "0  1.000000  0.080049  0.076085  0.057585  0.083980  0.078405  0.099107   \n",
      "1  0.080049  1.000000  0.135035  0.025568  0.076718  0.052143  0.098125   \n",
      "2  0.076085  0.135035  1.000000  0.056079  0.080267  0.044360  0.066071   \n",
      "3  0.057585  0.025568  0.056079  1.000000  0.070953  0.030003  0.062808   \n",
      "4  0.083980  0.076718  0.080267  0.070953  1.000000  0.076817  0.067071   \n",
      "\n",
      "        7         8         9    ...       490       491       492       493  \\\n",
      "0  0.069141  0.072307  0.074365  ...  0.050765  0.049910  0.027818  0.039284   \n",
      "1  0.093344  0.071534  0.063114  ...  0.043706  0.117899  0.053732  0.062919   \n",
      "2  0.128424  0.062363  0.068014  ...  0.074911  0.121894  0.030659  0.052202   \n",
      "3  0.093680  0.041401  0.040134  ...  0.042621  0.054287  0.051842  0.046107   \n",
      "4  0.104659  0.054758  0.056718  ...  0.067146  0.079428  0.046212  0.064750   \n",
      "\n",
      "        494       495       496       497       498       499  \n",
      "0  0.044840  0.126040  0.019111  0.017789  0.062538  0.050431  \n",
      "1  0.030327  0.047877  0.052997  0.054850  0.060262  0.064804  \n",
      "2  0.089595  0.033048  0.059727  0.054768  0.055150  0.063029  \n",
      "3  0.033620  0.018201  0.033851  0.040107  0.047824  0.039245  \n",
      "4  0.028957  0.081368  0.087192  0.050950  0.040517  0.079847  \n",
      "\n",
      "[5 rows x 500 columns]\n"
     ]
    }
   ],
   "source": [
    "# Lemmatize edilmiş veri için\n",
    "cosine_sim_matrix_lemma = cosine_similarity(tfidf_matrix_lemma)\n",
    "cosine_sim_df_lemma = pd.DataFrame(cosine_sim_matrix_lemma)\n",
    "\n",
    "print(\"\\nLemmatize edilmiş veri - Kosinüs Benzerliği Matrisi:\\n\")\n",
    "print(cosine_sim_df_lemma.head())"
   ]
  },
  {
   "cell_type": "code",
   "execution_count": 10,
   "id": "c07a4bc9-6778-45d1-9a26-ea423a13a981",
   "metadata": {},
   "outputs": [
    {
     "name": "stdout",
     "output_type": "stream",
     "text": [
      "\n",
      "Stemmed veri - Kosinüs Benzerliği Matrisi:\n",
      "\n",
      "        0         1         2         3         4         5         6    \\\n",
      "0  1.000000  0.015230  0.029530  0.012550  0.039084  0.017648  0.043923   \n",
      "1  0.015230  1.000000  0.068105  0.000000  0.005034  0.000000  0.038032   \n",
      "2  0.029530  0.068105  1.000000  0.000000  0.008850  0.001527  0.024016   \n",
      "3  0.012550  0.000000  0.000000  1.000000  0.015645  0.000000  0.037202   \n",
      "4  0.039084  0.005034  0.008850  0.015645  1.000000  0.008907  0.033123   \n",
      "\n",
      "        7         8         9    ...       490       491       492       493  \\\n",
      "0  0.045547  0.040169  0.040044  ...  0.000000  0.003001  0.003870  0.000000   \n",
      "1  0.024989  0.022520  0.017564  ...  0.000000  0.044756  0.039733  0.013739   \n",
      "2  0.055741  0.019846  0.015960  ...  0.029703  0.028413  0.002186  0.008655   \n",
      "3  0.034004  0.006381  0.012800  ...  0.002973  0.000000  0.014337  0.007820   \n",
      "4  0.033814  0.013564  0.031202  ...  0.025748  0.001761  0.016403  0.010518   \n",
      "\n",
      "        494       495       496       497       498       499  \n",
      "0  0.009473  0.038271  0.004356  0.000000  0.017303  0.003087  \n",
      "1  0.000000  0.009822  0.000000  0.000000  0.021678  0.015647  \n",
      "2  0.068944  0.022661  0.002461  0.000000  0.023509  0.022656  \n",
      "3  0.000000  0.000000  0.000000  0.012322  0.000000  0.000000  \n",
      "4  0.005558  0.057809  0.033787  0.026220  0.005201  0.025459  \n",
      "\n",
      "[5 rows x 500 columns]\n"
     ]
    }
   ],
   "source": [
    "# Stemmed veri için\n",
    "cosine_sim_matrix_stem = cosine_similarity(tfidf_matrix_stem)\n",
    "cosine_sim_df_stem = pd.DataFrame(cosine_sim_matrix_stem)\n",
    "\n",
    "print(\"\\nStemmed veri - Kosinüs Benzerliği Matrisi:\\n\")\n",
    "print(cosine_sim_df_stem.head())"
   ]
  },
  {
   "cell_type": "code",
   "execution_count": null,
   "id": "d5a14291-6049-49fd-ae01-ed632094f55a",
   "metadata": {},
   "outputs": [],
   "source": []
  }
 ],
 "metadata": {
  "kernelspec": {
   "display_name": "Python 3 (ipykernel)",
   "language": "python",
   "name": "python3"
  },
  "language_info": {
   "codemirror_mode": {
    "name": "ipython",
    "version": 3
   },
   "file_extension": ".py",
   "mimetype": "text/x-python",
   "name": "python",
   "nbconvert_exporter": "python",
   "pygments_lexer": "ipython3",
   "version": "3.12.7"
  }
 },
 "nbformat": 4,
 "nbformat_minor": 5
}
